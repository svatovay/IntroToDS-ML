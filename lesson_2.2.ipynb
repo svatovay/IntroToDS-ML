{
 "cells": [
  {
   "cell_type": "code",
   "execution_count": 1,
   "id": "21da5107-1259-498c-930e-70b775d45f1c",
   "metadata": {},
   "outputs": [],
   "source": [
    "import pandas as pd\n",
    "import numpy as np"
   ]
  },
  {
   "cell_type": "markdown",
   "id": "932ad731-d923-4482-9fc6-48887ef208dc",
   "metadata": {},
   "source": [
    "# Расчёт энтропии по разным параметрам для кошек и собак"
   ]
  },
  {
   "cell_type": "code",
   "execution_count": 2,
   "id": "95e7a9b0-fba8-4fe4-8749-9fcf62422682",
   "metadata": {},
   "outputs": [
    {
     "data": {
      "text/plain": [
       "0.9709505944546686"
      ]
     },
     "execution_count": 2,
     "metadata": {},
     "output_type": "execute_result"
    }
   ],
   "source": [
    "e_base = - 1 * (4/10) * np.log2(4/10) + -1 * (6/10) * np.log2(6/10)\n",
    "e_base"
   ]
  },
  {
   "cell_type": "code",
   "execution_count": 3,
   "id": "c2bc9bc2-f1e6-49e5-ae81-894e3f81e170",
   "metadata": {},
   "outputs": [
    {
     "data": {
      "text/plain": [
       "0.9910760598382222"
      ]
     },
     "execution_count": 3,
     "metadata": {},
     "output_type": "execute_result"
    }
   ],
   "source": [
    "e_wool_cat = -1 * (5/9) * np.log2(5/9) + - 1 * (4/9) * np.log2(4/9)\n",
    "e_wool_cat"
   ]
  },
  {
   "cell_type": "code",
   "execution_count": 4,
   "id": "e1e61d12-7d51-40e9-b8c4-55ecd3b7cc39",
   "metadata": {},
   "outputs": [
    {
     "data": {
      "text/plain": [
       "0.0"
      ]
     },
     "execution_count": 4,
     "metadata": {},
     "output_type": "execute_result"
    }
   ],
   "source": [
    "e_wool_dog = 0 + - 1 * (1/1) * np.log2(1/1)\n",
    "e_wool_dog"
   ]
  },
  {
   "cell_type": "code",
   "execution_count": 12,
   "id": "2eac0194-a92f-4ed5-bc8a-4602cef84874",
   "metadata": {},
   "outputs": [
    {
     "data": {
      "text/plain": [
       "0.07898214060026854"
      ]
     },
     "execution_count": 12,
     "metadata": {},
     "output_type": "execute_result"
    }
   ],
   "source": [
    "ig_wool = e_base - (9/10*e_wool_cat + 1/10*e_wool_dog)\n",
    "ig_wool"
   ]
  },
  {
   "cell_type": "code",
   "execution_count": 6,
   "id": "77b88fc2-98f0-41d1-aadc-34fc08a43e4c",
   "metadata": {},
   "outputs": [
    {
     "data": {
      "text/plain": [
       "0.7219280948873623"
      ]
     },
     "execution_count": 6,
     "metadata": {},
     "output_type": "execute_result"
    }
   ],
   "source": [
    "e_bark_cat = -1 * (1/5) * np.log2(1/5) + - 1 * (4/5) * np.log2(4/5)\n",
    "e_bark_cat"
   ]
  },
  {
   "cell_type": "code",
   "execution_count": 7,
   "id": "4c6a8235-f44f-4459-82ec-2f7cd13c060f",
   "metadata": {},
   "outputs": [
    {
     "data": {
      "text/plain": [
       "0.0"
      ]
     },
     "execution_count": 7,
     "metadata": {},
     "output_type": "execute_result"
    }
   ],
   "source": [
    "e_bark_dog = -1 * (5/5) * np.log2(5/5) + 0\n",
    "e_bark_dog"
   ]
  },
  {
   "cell_type": "code",
   "execution_count": 13,
   "id": "6b8a7a12-b165-4a8a-9d13-49b1c6e33c9f",
   "metadata": {},
   "outputs": [
    {
     "data": {
      "text/plain": [
       "0.6099865470109874"
      ]
     },
     "execution_count": 13,
     "metadata": {},
     "output_type": "execute_result"
    }
   ],
   "source": [
    "ig_bark = e_base - (5/10*e_bark_cat + 5/10*e_bark_dog)\n",
    "ig_bark"
   ]
  },
  {
   "cell_type": "code",
   "execution_count": 9,
   "id": "84b3503a-8d4e-4503-b02d-1f70157f12cf",
   "metadata": {},
   "outputs": [
    {
     "data": {
      "text/plain": [
       "0.0"
      ]
     },
     "execution_count": 9,
     "metadata": {},
     "output_type": "execute_result"
    }
   ],
   "source": [
    "e_climb_cat = -1 * (6/6) * np.log2(6/6) + 0\n",
    "e_climb_cat"
   ]
  },
  {
   "cell_type": "code",
   "execution_count": 10,
   "id": "dcb48d43-1722-4076-9027-918743c08a52",
   "metadata": {},
   "outputs": [
    {
     "data": {
      "text/plain": [
       "0.0"
      ]
     },
     "execution_count": 10,
     "metadata": {},
     "output_type": "execute_result"
    }
   ],
   "source": [
    "e_climb_dog = 0 + - 1 * (4/4) * np.log2(4/4)\n",
    "e_climb_dog"
   ]
  },
  {
   "cell_type": "code",
   "execution_count": 14,
   "id": "530a0804-b563-4bd6-aaea-29b5ed3d48fe",
   "metadata": {},
   "outputs": [
    {
     "data": {
      "text/plain": [
       "0.9709505944546686"
      ]
     },
     "execution_count": 14,
     "metadata": {},
     "output_type": "execute_result"
    }
   ],
   "source": [
    "ig_climb = e_base - (6/10*e_climb_cat + 4/10*e_climb_dog)\n",
    "ig_climb"
   ]
  },
  {
   "cell_type": "code",
   "execution_count": null,
   "id": "347ee8da-642e-42da-8618-f43d22f6b2d2",
   "metadata": {},
   "outputs": [],
   "source": []
  }
 ],
 "metadata": {
  "kernelspec": {
   "display_name": "Python 3 (ipykernel)",
   "language": "python",
   "name": "python3"
  },
  "language_info": {
   "codemirror_mode": {
    "name": "ipython",
    "version": 3
   },
   "file_extension": ".py",
   "mimetype": "text/x-python",
   "name": "python",
   "nbconvert_exporter": "python",
   "pygments_lexer": "ipython3",
   "version": "3.12.1"
  }
 },
 "nbformat": 4,
 "nbformat_minor": 5
}
